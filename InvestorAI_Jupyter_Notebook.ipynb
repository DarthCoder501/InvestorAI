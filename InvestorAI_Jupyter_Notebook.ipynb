{
  "nbformat": 4,
  "nbformat_minor": 0,
  "metadata": {
    "colab": {
      "provenance": [],
      "authorship_tag": "ABX9TyPmbyYmcq/wRmhma9F5p3T2",
      "include_colab_link": true
    },
    "kernelspec": {
      "name": "python3",
      "display_name": "Python 3"
    },
    "language_info": {
      "name": "python"
    }
  },
  "cells": [
    {
      "cell_type": "markdown",
      "metadata": {
        "id": "view-in-github",
        "colab_type": "text"
      },
      "source": [
        "<a href=\"https://colab.research.google.com/github/DarthCoder501/InvestorAI/blob/main/InvestorAI_Jupyter_Notebook.ipynb\" target=\"_parent\"><img src=\"https://colab.research.google.com/assets/colab-badge.svg\" alt=\"Open In Colab\"/></a>"
      ]
    },
    {
      "cell_type": "code",
      "source": [
        "!pip install -U langgraph langgraph-checkpoint-sqlite yfinance -U langchain-groq langchain-community"
      ],
      "metadata": {
        "id": "PrBSBrgy_G1j",
        "colab": {
          "base_uri": "https://localhost:8080/"
        },
        "outputId": "03e39ebc-a7e4-4648-8174-b10ec5f4d2c7"
      },
      "execution_count": 1,
      "outputs": [
        {
          "output_type": "stream",
          "name": "stdout",
          "text": [
            "Collecting langgraph\n",
            "  Downloading langgraph-0.5.2-py3-none-any.whl.metadata (6.7 kB)\n",
            "Collecting langgraph-checkpoint-sqlite\n",
            "  Downloading langgraph_checkpoint_sqlite-2.0.10-py3-none-any.whl.metadata (2.7 kB)\n",
            "Requirement already satisfied: yfinance in /usr/local/lib/python3.11/dist-packages (0.2.65)\n",
            "Collecting langchain-groq\n",
            "  Downloading langchain_groq-0.3.6-py3-none-any.whl.metadata (2.6 kB)\n",
            "Collecting langchain-community\n",
            "  Downloading langchain_community-0.3.27-py3-none-any.whl.metadata (2.9 kB)\n",
            "Requirement already satisfied: langchain-core>=0.1 in /usr/local/lib/python3.11/dist-packages (from langgraph) (0.3.68)\n",
            "Collecting langgraph-checkpoint<3.0.0,>=2.1.0 (from langgraph)\n",
            "  Downloading langgraph_checkpoint-2.1.0-py3-none-any.whl.metadata (4.2 kB)\n",
            "Collecting langgraph-prebuilt<0.6.0,>=0.5.0 (from langgraph)\n",
            "  Downloading langgraph_prebuilt-0.5.2-py3-none-any.whl.metadata (4.5 kB)\n",
            "Collecting langgraph-sdk<0.2.0,>=0.1.42 (from langgraph)\n",
            "  Downloading langgraph_sdk-0.1.72-py3-none-any.whl.metadata (1.5 kB)\n",
            "Requirement already satisfied: pydantic>=2.7.4 in /usr/local/lib/python3.11/dist-packages (from langgraph) (2.11.7)\n",
            "Requirement already satisfied: xxhash>=3.5.0 in /usr/local/lib/python3.11/dist-packages (from langgraph) (3.5.0)\n",
            "Collecting aiosqlite>=0.20 (from langgraph-checkpoint-sqlite)\n",
            "  Downloading aiosqlite-0.21.0-py3-none-any.whl.metadata (4.3 kB)\n",
            "Collecting sqlite-vec>=0.1.6 (from langgraph-checkpoint-sqlite)\n",
            "  Downloading sqlite_vec-0.1.6-py3-none-manylinux_2_17_x86_64.manylinux2014_x86_64.manylinux1_x86_64.whl.metadata (198 bytes)\n",
            "Requirement already satisfied: pandas>=1.3.0 in /usr/local/lib/python3.11/dist-packages (from yfinance) (2.2.2)\n",
            "Requirement already satisfied: numpy>=1.16.5 in /usr/local/lib/python3.11/dist-packages (from yfinance) (2.0.2)\n",
            "Requirement already satisfied: requests>=2.31 in /usr/local/lib/python3.11/dist-packages (from yfinance) (2.32.3)\n",
            "Requirement already satisfied: multitasking>=0.0.7 in /usr/local/lib/python3.11/dist-packages (from yfinance) (0.0.11)\n",
            "Requirement already satisfied: platformdirs>=2.0.0 in /usr/local/lib/python3.11/dist-packages (from yfinance) (4.3.8)\n",
            "Requirement already satisfied: pytz>=2022.5 in /usr/local/lib/python3.11/dist-packages (from yfinance) (2025.2)\n",
            "Requirement already satisfied: frozendict>=2.3.4 in /usr/local/lib/python3.11/dist-packages (from yfinance) (2.4.6)\n",
            "Requirement already satisfied: peewee>=3.16.2 in /usr/local/lib/python3.11/dist-packages (from yfinance) (3.18.2)\n",
            "Requirement already satisfied: beautifulsoup4>=4.11.1 in /usr/local/lib/python3.11/dist-packages (from yfinance) (4.13.4)\n",
            "Requirement already satisfied: curl_cffi>=0.7 in /usr/local/lib/python3.11/dist-packages (from yfinance) (0.11.4)\n",
            "Requirement already satisfied: protobuf>=3.19.0 in /usr/local/lib/python3.11/dist-packages (from yfinance) (5.29.5)\n",
            "Requirement already satisfied: websockets>=13.0 in /usr/local/lib/python3.11/dist-packages (from yfinance) (15.0.1)\n",
            "Collecting groq<1,>=0.29.0 (from langchain-groq)\n",
            "  Downloading groq-0.30.0-py3-none-any.whl.metadata (16 kB)\n",
            "Requirement already satisfied: langchain<1.0.0,>=0.3.26 in /usr/local/lib/python3.11/dist-packages (from langchain-community) (0.3.26)\n",
            "Requirement already satisfied: SQLAlchemy<3,>=1.4 in /usr/local/lib/python3.11/dist-packages (from langchain-community) (2.0.41)\n",
            "Requirement already satisfied: PyYAML>=5.3 in /usr/local/lib/python3.11/dist-packages (from langchain-community) (6.0.2)\n",
            "Requirement already satisfied: aiohttp<4.0.0,>=3.8.3 in /usr/local/lib/python3.11/dist-packages (from langchain-community) (3.11.15)\n",
            "Requirement already satisfied: tenacity!=8.4.0,<10,>=8.1.0 in /usr/local/lib/python3.11/dist-packages (from langchain-community) (8.5.0)\n",
            "Collecting dataclasses-json<0.7,>=0.5.7 (from langchain-community)\n",
            "  Downloading dataclasses_json-0.6.7-py3-none-any.whl.metadata (25 kB)\n",
            "Collecting pydantic-settings<3.0.0,>=2.4.0 (from langchain-community)\n",
            "  Downloading pydantic_settings-2.10.1-py3-none-any.whl.metadata (3.4 kB)\n",
            "Requirement already satisfied: langsmith>=0.1.125 in /usr/local/lib/python3.11/dist-packages (from langchain-community) (0.4.4)\n",
            "Collecting httpx-sse<1.0.0,>=0.4.0 (from langchain-community)\n",
            "  Downloading httpx_sse-0.4.1-py3-none-any.whl.metadata (9.4 kB)\n",
            "Requirement already satisfied: aiohappyeyeballs>=2.3.0 in /usr/local/lib/python3.11/dist-packages (from aiohttp<4.0.0,>=3.8.3->langchain-community) (2.6.1)\n",
            "Requirement already satisfied: aiosignal>=1.1.2 in /usr/local/lib/python3.11/dist-packages (from aiohttp<4.0.0,>=3.8.3->langchain-community) (1.4.0)\n",
            "Requirement already satisfied: attrs>=17.3.0 in /usr/local/lib/python3.11/dist-packages (from aiohttp<4.0.0,>=3.8.3->langchain-community) (25.3.0)\n",
            "Requirement already satisfied: frozenlist>=1.1.1 in /usr/local/lib/python3.11/dist-packages (from aiohttp<4.0.0,>=3.8.3->langchain-community) (1.7.0)\n",
            "Requirement already satisfied: multidict<7.0,>=4.5 in /usr/local/lib/python3.11/dist-packages (from aiohttp<4.0.0,>=3.8.3->langchain-community) (6.6.3)\n",
            "Requirement already satisfied: propcache>=0.2.0 in /usr/local/lib/python3.11/dist-packages (from aiohttp<4.0.0,>=3.8.3->langchain-community) (0.3.2)\n",
            "Requirement already satisfied: yarl<2.0,>=1.17.0 in /usr/local/lib/python3.11/dist-packages (from aiohttp<4.0.0,>=3.8.3->langchain-community) (1.20.1)\n",
            "Requirement already satisfied: typing_extensions>=4.0 in /usr/local/lib/python3.11/dist-packages (from aiosqlite>=0.20->langgraph-checkpoint-sqlite) (4.14.1)\n",
            "Requirement already satisfied: soupsieve>1.2 in /usr/local/lib/python3.11/dist-packages (from beautifulsoup4>=4.11.1->yfinance) (2.7)\n",
            "Requirement already satisfied: cffi>=1.12.0 in /usr/local/lib/python3.11/dist-packages (from curl_cffi>=0.7->yfinance) (1.17.1)\n",
            "Requirement already satisfied: certifi>=2024.2.2 in /usr/local/lib/python3.11/dist-packages (from curl_cffi>=0.7->yfinance) (2025.7.9)\n",
            "Collecting marshmallow<4.0.0,>=3.18.0 (from dataclasses-json<0.7,>=0.5.7->langchain-community)\n",
            "  Downloading marshmallow-3.26.1-py3-none-any.whl.metadata (7.3 kB)\n",
            "Collecting typing-inspect<1,>=0.4.0 (from dataclasses-json<0.7,>=0.5.7->langchain-community)\n",
            "  Downloading typing_inspect-0.9.0-py3-none-any.whl.metadata (1.5 kB)\n",
            "Requirement already satisfied: anyio<5,>=3.5.0 in /usr/local/lib/python3.11/dist-packages (from groq<1,>=0.29.0->langchain-groq) (4.9.0)\n",
            "Requirement already satisfied: distro<2,>=1.7.0 in /usr/local/lib/python3.11/dist-packages (from groq<1,>=0.29.0->langchain-groq) (1.9.0)\n",
            "Requirement already satisfied: httpx<1,>=0.23.0 in /usr/local/lib/python3.11/dist-packages (from groq<1,>=0.29.0->langchain-groq) (0.28.1)\n",
            "Requirement already satisfied: sniffio in /usr/local/lib/python3.11/dist-packages (from groq<1,>=0.29.0->langchain-groq) (1.3.1)\n",
            "Requirement already satisfied: langchain-text-splitters<1.0.0,>=0.3.8 in /usr/local/lib/python3.11/dist-packages (from langchain<1.0.0,>=0.3.26->langchain-community) (0.3.8)\n",
            "Requirement already satisfied: jsonpatch<2.0,>=1.33 in /usr/local/lib/python3.11/dist-packages (from langchain-core>=0.1->langgraph) (1.33)\n",
            "Requirement already satisfied: packaging<25,>=23.2 in /usr/local/lib/python3.11/dist-packages (from langchain-core>=0.1->langgraph) (24.2)\n",
            "Collecting ormsgpack>=1.10.0 (from langgraph-checkpoint<3.0.0,>=2.1.0->langgraph)\n",
            "  Downloading ormsgpack-1.10.0-cp311-cp311-manylinux_2_17_x86_64.manylinux2014_x86_64.whl.metadata (43 kB)\n",
            "\u001b[2K     \u001b[90m━━━━━━━━━━━━━━━━━━━━━━━━━━━━━━━━━━━━━━━━\u001b[0m \u001b[32m43.7/43.7 kB\u001b[0m \u001b[31m1.1 MB/s\u001b[0m eta \u001b[36m0:00:00\u001b[0m\n",
            "\u001b[?25hRequirement already satisfied: orjson>=3.10.1 in /usr/local/lib/python3.11/dist-packages (from langgraph-sdk<0.2.0,>=0.1.42->langgraph) (3.10.18)\n",
            "Requirement already satisfied: requests-toolbelt<2.0.0,>=1.0.0 in /usr/local/lib/python3.11/dist-packages (from langsmith>=0.1.125->langchain-community) (1.0.0)\n",
            "Requirement already satisfied: zstandard<0.24.0,>=0.23.0 in /usr/local/lib/python3.11/dist-packages (from langsmith>=0.1.125->langchain-community) (0.23.0)\n",
            "Requirement already satisfied: python-dateutil>=2.8.2 in /usr/local/lib/python3.11/dist-packages (from pandas>=1.3.0->yfinance) (2.9.0.post0)\n",
            "Requirement already satisfied: tzdata>=2022.7 in /usr/local/lib/python3.11/dist-packages (from pandas>=1.3.0->yfinance) (2025.2)\n",
            "Requirement already satisfied: annotated-types>=0.6.0 in /usr/local/lib/python3.11/dist-packages (from pydantic>=2.7.4->langgraph) (0.7.0)\n",
            "Requirement already satisfied: pydantic-core==2.33.2 in /usr/local/lib/python3.11/dist-packages (from pydantic>=2.7.4->langgraph) (2.33.2)\n",
            "Requirement already satisfied: typing-inspection>=0.4.0 in /usr/local/lib/python3.11/dist-packages (from pydantic>=2.7.4->langgraph) (0.4.1)\n",
            "Collecting python-dotenv>=0.21.0 (from pydantic-settings<3.0.0,>=2.4.0->langchain-community)\n",
            "  Downloading python_dotenv-1.1.1-py3-none-any.whl.metadata (24 kB)\n",
            "Requirement already satisfied: charset-normalizer<4,>=2 in /usr/local/lib/python3.11/dist-packages (from requests>=2.31->yfinance) (3.4.2)\n",
            "Requirement already satisfied: idna<4,>=2.5 in /usr/local/lib/python3.11/dist-packages (from requests>=2.31->yfinance) (3.10)\n",
            "Requirement already satisfied: urllib3<3,>=1.21.1 in /usr/local/lib/python3.11/dist-packages (from requests>=2.31->yfinance) (2.4.0)\n",
            "Requirement already satisfied: greenlet>=1 in /usr/local/lib/python3.11/dist-packages (from SQLAlchemy<3,>=1.4->langchain-community) (3.2.3)\n",
            "Requirement already satisfied: pycparser in /usr/local/lib/python3.11/dist-packages (from cffi>=1.12.0->curl_cffi>=0.7->yfinance) (2.22)\n",
            "Requirement already satisfied: httpcore==1.* in /usr/local/lib/python3.11/dist-packages (from httpx<1,>=0.23.0->groq<1,>=0.29.0->langchain-groq) (1.0.9)\n",
            "Requirement already satisfied: h11>=0.16 in /usr/local/lib/python3.11/dist-packages (from httpcore==1.*->httpx<1,>=0.23.0->groq<1,>=0.29.0->langchain-groq) (0.16.0)\n",
            "Requirement already satisfied: jsonpointer>=1.9 in /usr/local/lib/python3.11/dist-packages (from jsonpatch<2.0,>=1.33->langchain-core>=0.1->langgraph) (3.0.0)\n",
            "Requirement already satisfied: six>=1.5 in /usr/local/lib/python3.11/dist-packages (from python-dateutil>=2.8.2->pandas>=1.3.0->yfinance) (1.17.0)\n",
            "Collecting mypy-extensions>=0.3.0 (from typing-inspect<1,>=0.4.0->dataclasses-json<0.7,>=0.5.7->langchain-community)\n",
            "  Downloading mypy_extensions-1.1.0-py3-none-any.whl.metadata (1.1 kB)\n",
            "Downloading langgraph-0.5.2-py3-none-any.whl (143 kB)\n",
            "\u001b[2K   \u001b[90m━━━━━━━━━━━━━━━━━━━━━━━━━━━━━━━━━━━━━━━━\u001b[0m \u001b[32m143.7/143.7 kB\u001b[0m \u001b[31m1.3 MB/s\u001b[0m eta \u001b[36m0:00:00\u001b[0m\n",
            "\u001b[?25hDownloading langgraph_checkpoint_sqlite-2.0.10-py3-none-any.whl (30 kB)\n",
            "Downloading langchain_groq-0.3.6-py3-none-any.whl (16 kB)\n",
            "Downloading langchain_community-0.3.27-py3-none-any.whl (2.5 MB)\n",
            "\u001b[2K   \u001b[90m━━━━━━━━━━━━━━━━━━━━━━━━━━━━━━━━━━━━━━━━\u001b[0m \u001b[32m2.5/2.5 MB\u001b[0m \u001b[31m8.6 MB/s\u001b[0m eta \u001b[36m0:00:00\u001b[0m\n",
            "\u001b[?25hDownloading aiosqlite-0.21.0-py3-none-any.whl (15 kB)\n",
            "Downloading dataclasses_json-0.6.7-py3-none-any.whl (28 kB)\n",
            "Downloading groq-0.30.0-py3-none-any.whl (131 kB)\n",
            "\u001b[2K   \u001b[90m━━━━━━━━━━━━━━━━━━━━━━━━━━━━━━━━━━━━━━━━\u001b[0m \u001b[32m131.1/131.1 kB\u001b[0m \u001b[31m5.8 MB/s\u001b[0m eta \u001b[36m0:00:00\u001b[0m\n",
            "\u001b[?25hDownloading httpx_sse-0.4.1-py3-none-any.whl (8.1 kB)\n",
            "Downloading langgraph_checkpoint-2.1.0-py3-none-any.whl (43 kB)\n",
            "\u001b[2K   \u001b[90m━━━━━━━━━━━━━━━━━━━━━━━━━━━━━━━━━━━━━━━━\u001b[0m \u001b[32m43.8/43.8 kB\u001b[0m \u001b[31m2.0 MB/s\u001b[0m eta \u001b[36m0:00:00\u001b[0m\n",
            "\u001b[?25hDownloading langgraph_prebuilt-0.5.2-py3-none-any.whl (23 kB)\n",
            "Downloading langgraph_sdk-0.1.72-py3-none-any.whl (50 kB)\n",
            "\u001b[2K   \u001b[90m━━━━━━━━━━━━━━━━━━━━━━━━━━━━━━━━━━━━━━━━\u001b[0m \u001b[32m50.1/50.1 kB\u001b[0m \u001b[31m3.8 MB/s\u001b[0m eta \u001b[36m0:00:00\u001b[0m\n",
            "\u001b[?25hDownloading pydantic_settings-2.10.1-py3-none-any.whl (45 kB)\n",
            "\u001b[2K   \u001b[90m━━━━━━━━━━━━━━━━━━━━━━━━━━━━━━━━━━━━━━━━\u001b[0m \u001b[32m45.2/45.2 kB\u001b[0m \u001b[31m3.4 MB/s\u001b[0m eta \u001b[36m0:00:00\u001b[0m\n",
            "\u001b[?25hDownloading sqlite_vec-0.1.6-py3-none-manylinux_2_17_x86_64.manylinux2014_x86_64.manylinux1_x86_64.whl (151 kB)\n",
            "\u001b[2K   \u001b[90m━━━━━━━━━━━━━━━━━━━━━━━━━━━━━━━━━━━━━━━━\u001b[0m \u001b[32m151.6/151.6 kB\u001b[0m \u001b[31m14.0 MB/s\u001b[0m eta \u001b[36m0:00:00\u001b[0m\n",
            "\u001b[?25hDownloading marshmallow-3.26.1-py3-none-any.whl (50 kB)\n",
            "\u001b[2K   \u001b[90m━━━━━━━━━━━━━━━━━━━━━━━━━━━━━━━━━━━━━━━━\u001b[0m \u001b[32m50.9/50.9 kB\u001b[0m \u001b[31m4.9 MB/s\u001b[0m eta \u001b[36m0:00:00\u001b[0m\n",
            "\u001b[?25hDownloading ormsgpack-1.10.0-cp311-cp311-manylinux_2_17_x86_64.manylinux2014_x86_64.whl (216 kB)\n",
            "\u001b[2K   \u001b[90m━━━━━━━━━━━━━━━━━━━━━━━━━━━━━━━━━━━━━━━━\u001b[0m \u001b[32m216.5/216.5 kB\u001b[0m \u001b[31m20.2 MB/s\u001b[0m eta \u001b[36m0:00:00\u001b[0m\n",
            "\u001b[?25hDownloading python_dotenv-1.1.1-py3-none-any.whl (20 kB)\n",
            "Downloading typing_inspect-0.9.0-py3-none-any.whl (8.8 kB)\n",
            "Downloading mypy_extensions-1.1.0-py3-none-any.whl (5.0 kB)\n",
            "Installing collected packages: sqlite-vec, python-dotenv, ormsgpack, mypy-extensions, marshmallow, httpx-sse, aiosqlite, typing-inspect, pydantic-settings, langgraph-sdk, groq, dataclasses-json, langgraph-checkpoint, langchain-groq, langgraph-prebuilt, langgraph-checkpoint-sqlite, langgraph, langchain-community\n",
            "Successfully installed aiosqlite-0.21.0 dataclasses-json-0.6.7 groq-0.30.0 httpx-sse-0.4.1 langchain-community-0.3.27 langchain-groq-0.3.6 langgraph-0.5.2 langgraph-checkpoint-2.1.0 langgraph-checkpoint-sqlite-2.0.10 langgraph-prebuilt-0.5.2 langgraph-sdk-0.1.72 marshmallow-3.26.1 mypy-extensions-1.1.0 ormsgpack-1.10.0 pydantic-settings-2.10.1 python-dotenv-1.1.1 sqlite-vec-0.1.6 typing-inspect-0.9.0\n"
          ]
        }
      ]
    },
    {
      "cell_type": "code",
      "source": [
        "from langchain.chat_models import init_chat_model\n",
        "from langgraph.checkpoint.memory import MemorySaver\n",
        "from langgraph.prebuilt import create_react_agent\n",
        "from langchain_community.tools.yahoo_finance_news import YahooFinanceNewsTool\n",
        "from langchain_core.tools import tool\n",
        "\n",
        "from sklearn.preprocessing import MinMaxScaler\n",
        "from sklearn.model_selection import train_test_split\n",
        "from sklearn.metrics import mean_absolute_error, mean_absolute_percentage_error, mean_squared_error\n",
        "\n",
        "import tensorflow as tf\n",
        "from tensorflow.keras.models import Sequential\n",
        "from tensorflow.keras.layers import LSTM, Dropout, Dense\n",
        "from tensorflow.keras.optimizers import Adam\n",
        "\n",
        "import yfinance as yf\n",
        "import numpy as np\n",
        "import pandas as pd\n",
        "import getpass\n",
        "import os\n",
        "from datetime import datetime\n",
        "import random"
      ],
      "metadata": {
        "id": "G42x-shk-87-",
        "colab": {
          "base_uri": "https://localhost:8080/"
        },
        "outputId": "eb4850ae-4a8e-4a75-a87f-eb760677c807"
      },
      "execution_count": 2,
      "outputs": [
        {
          "output_type": "stream",
          "name": "stderr",
          "text": [
            "WARNING:langchain_community.utils.user_agent:USER_AGENT environment variable not set, consider setting it to identify your requests.\n"
          ]
        }
      ]
    },
    {
      "cell_type": "code",
      "source": [
        "os.environ[\"LANGSMITH_TRACING\"] = \"true\""
      ],
      "metadata": {
        "id": "7r17CIL1_OXi"
      },
      "execution_count": null,
      "outputs": []
    },
    {
      "cell_type": "code",
      "source": [
        "os.environ[\"LANGSMITH_API_KEY\"] = getpass.getpass()"
      ],
      "metadata": {
        "id": "WM0cDec1Dj6o"
      },
      "execution_count": null,
      "outputs": []
    },
    {
      "cell_type": "code",
      "source": [
        "os.environ[\"GROQ_API_KEY\"] = getpass.getpass()"
      ],
      "metadata": {
        "id": "PeWlSOb325Ma"
      },
      "execution_count": 4,
      "outputs": []
    },
    {
      "cell_type": "code",
      "source": [
        "memory = MemorySaver()\n",
        "model = init_chat_model(\"llama-3.1-8b-instant\", model_provider=\"groq\")"
      ],
      "metadata": {
        "id": "hGVlqZEY_YZn"
      },
      "execution_count": 5,
      "outputs": []
    },
    {
      "cell_type": "code",
      "source": [
        "# Tool for LLM to use to get real time stock prices\n",
        "@tool\n",
        "def real_time_stock_price(ticker:str)-> float:\n",
        "  \"\"\"Fetches the real-time stock price for a given ticker symbol.\"\"\"\n",
        "  stock = yf.Ticker(ticker) # Creates a Ticker object for the specified ticker symbol from the user\n",
        "  price = stock.history(period=\"1d\")['Close'][0] # Retrieves historical data for the last trading day & extracts the closing price of the stock\n",
        "  return price"
      ],
      "metadata": {
        "id": "vtQ3NGy4hD9C"
      },
      "execution_count": 6,
      "outputs": []
    },
    {
      "cell_type": "code",
      "source": [
        "class StockPredictor():\n",
        "  # Load and preprocess data w/ new features\n",
        "  def load_data(self, ticker): # Added ticker as an argument\n",
        "      df = yf.download(ticker, start=\"2020-01-01\", end=datetime.today().strftime('%Y-%m-%d'))\n",
        "      df = df.reset_index() # Resetting index to make 'Date' a column\n",
        "      df['Year'] = df['Date'].dt.year\n",
        "      df['Month'] = df['Date'].dt.month\n",
        "      df['TimeStamp'] = (df['Date'] - pd.Timestamp(\"2020-01-01\")) // pd.Timedelta('1s')\n",
        "      df['Daily Variation'] = (df['High'] - df['Low']) / df['Open'] # Volatility of the index on a specific day\n",
        "      df['7-Day SMA'] = df['Close'].rolling(window=7).mean() # 7 Day simple moverging average (closed column)\n",
        "      df['7-Day STD'] = df['Close'].rolling(window=7).std() # 7 Day standard deviation (closed column)\n",
        "      df['High - Close'] = (df['High'] - df['Close']) / df['Open'] # Downward pressure of index on a given day\n",
        "      df['Low - Open'] = (df['Low'] - df['Open']) / df['Open'] # Upwards pressure of index on a given day\n",
        "      df['Cumulative Return'] = df['Close'].pct_change().cumsum() # long-term preformance of the index\n",
        "      df['14-Day EMA'] = df['Close'].ewm(span=14).mean() # 14-day exponential MA (Smother & more responseive alt to SMA)\n",
        "      df['Close Change'] = df['Close'].diff() # % change in the close column from pervious day\n",
        "      df['MACD'] = df['Close'].ewm(span=12).mean() - df['Close'].ewm(span=26).mean() # Tracks the trend and momentum of an asset\n",
        "      df['Stochastic Oscillator'] = (df['Close'] - df['Low'].rolling(14).min()) / (df['High'].rolling(14).max() - df['Low'].rolling(14).min()) # Represents position of the index relative to its recent range\n",
        "      df['ATR'] = df['Daily Variation'].rolling(14).mean() # Volatility of the index over time\n",
        "      df['ADX'] = df['Close'].rolling(14).mean() #  Strength & direction of the trend of the index\n",
        "      df['DMI'] = df['Close'].rolling(14).mean() #  Positive and negative movements of the index\n",
        "\n",
        "      df.dropna(inplace=True)\n",
        "      return df\n",
        "\n",
        "  # Prepare training data\n",
        "  def prepare_data(self, df, target_col='Close'):\n",
        "      scaler = MinMaxScaler()\n",
        "      # Drop the date and the target column before scaling\n",
        "      scaled_data = scaler.fit_transform(df.drop(columns=['Date', 'Close']))\n",
        "      X, y = [], []\n",
        "      # Access the target column ('Close', ticker) directly from the original dataframe\n",
        "      target_data = df['Close']\n",
        "      for i in range(30, len(scaled_data)):\n",
        "          X.append(scaled_data[i-30:i])\n",
        "          y.append(target_data.iloc[i])\n",
        "      # Scale the target data separately and then inverse transform later\n",
        "      y = scaler.fit_transform(np.array(y).reshape(-1, 1))\n",
        "      return np.array(X), np.array(y), scaler, scaled_data\n",
        "\n",
        "  # Build LSTM model\n",
        "  def build_lstm(self, input_shape):\n",
        "      model = Sequential([\n",
        "          LSTM(50, return_sequences=True, input_shape=input_shape),\n",
        "          Dropout(0.2),\n",
        "          LSTM(50, return_sequences=False),\n",
        "          Dropout(0.2),\n",
        "          Dense(1)\n",
        "      ])\n",
        "      model.compile(optimizer='adam', loss='mse', metrics=['mae'])\n",
        "      return model\n",
        "\n",
        "  # Train and evaluate model\n",
        "  def train_and_evaluate_model(self, X_train, X_test, y_train, y_test):\n",
        "      model = self.build_lstm((X_train.shape[1], X_train.shape[2]))\n",
        "      history = model.fit(X_train, y_train, epochs=50, batch_size=32, validation_data=(X_test, y_test))\n",
        "      y_pred = model.predict(X_test)\n",
        "      metrics = {\n",
        "          \"MAE\": mean_absolute_error(y_test, y_pred),\n",
        "          \"MAPE\": mean_absolute_percentage_error(y_test, y_pred),\n",
        "          \"MSE\": mean_squared_error(y_test, y_pred),\n",
        "          \"RMSE\": np.sqrt(mean_squared_error(y_test, y_pred))\n",
        "      }\n",
        "      return model, history, metrics, y_test, y_pred\n",
        "\n",
        "  # Main function\n",
        "  def thirty_day_forecast(self, ticker):\n",
        "      df = self.load_data(ticker)\n",
        "      X, y, scaler, scaled_data = self.prepare_data(df)\n",
        "      X_train, X_test, y_train, y_test = train_test_split(X, y, test_size=0.2, random_state=42)\n",
        "\n",
        "      # Train and evaluate standard LSTM\n",
        "      model_lstm, history_lstm, metrics_lstm, _, y_pred_lstm = self.train_and_evaluate_model(X_train, X_test, y_train, y_test)\n",
        "\n",
        "      # Get the last 30 days of scaled data to make future predictions\n",
        "      last_30_days = scaled_data[-30:]\n",
        "      # Respahe to fit the model's input shape (1 sample, 30 timestamps, 1 feature)\n",
        "      x_future = last_30_days.reshape(1, last_30_days.shape[0], -1)\n",
        "\n",
        "      # Generate the forecast\n",
        "      future_predictions = []\n",
        "      num_features = x_future.shape[2] # Get the number of features\n",
        "\n",
        "      for _ in range(30):  # Predict the next 30 days\n",
        "          pred = model_lstm.predict(x_future)\n",
        "          future_predictions.append(pred[0, 0]) # Add prediction to the list\n",
        "\n",
        "          # Create a new array for the next day's input with the correct number of features\n",
        "          new_day_input = np.zeros((1, num_features))\n",
        "          # Insert the predicted price\n",
        "          new_day_input[0, 0] = pred[0, 0]\n",
        "\n",
        "      # Update x_future w/ new prediction by removing the first value and adding the prediction\n",
        "      x_future = np.append(x_future[:, 1:, :], [[new_day_input[0]]], axis=1)\n",
        "\n",
        "      # Convert predcitions back to original scale\n",
        "      future_predictions = scaler.inverse_transform(np.array(future_predictions).reshape(-1,1))\n",
        "\n",
        "      return f\"The model predicts that this will be the the prices for {ticker} for the next 30 days: {future_predictions}\""
      ],
      "metadata": {
        "id": "py86Vfiliijp"
      },
      "execution_count": 7,
      "outputs": []
    },
    {
      "cell_type": "code",
      "source": [
        "# Tool for LLM to use to predict stock prices\n",
        "@tool\n",
        "def lstm(ticker: str) -> str:\n",
        "      \"\"\"Predict stock prices for the next 30 for given ticker\"\"\"\n",
        "      forecast = StockPredictor()\n",
        "      return forecast.thirty_day_forecast(ticker)"
      ],
      "metadata": {
        "id": "HZ4qXW6L_uIA"
      },
      "execution_count": 8,
      "outputs": []
    },
    {
      "cell_type": "code",
      "source": [
        "# Create agent & define tools\n",
        "tools = [YahooFinanceNewsTool(), real_time_stock_price, lstm]\n",
        "agent_executor = create_react_agent(model, tools, checkpointer=memory)"
      ],
      "metadata": {
        "id": "uvbPHxKrPoSV"
      },
      "execution_count": 9,
      "outputs": []
    },
    {
      "cell_type": "code",
      "source": [
        "# Create a random thread id\n",
        "thread_id = random.randint(1, 100000)"
      ],
      "metadata": {
        "id": "_fdDxsx2AgPg"
      },
      "execution_count": 10,
      "outputs": []
    },
    {
      "cell_type": "code",
      "source": [
        "# Use Agent\n",
        "config = {\"configurable\": {\"thread_id\": thread_id}}"
      ],
      "metadata": {
        "id": "hRpalHhsAe8n"
      },
      "execution_count": 11,
      "outputs": []
    },
    {
      "cell_type": "code",
      "source": [
        "# Get input\n",
        "message = input(\"Begin typing here: \")"
      ],
      "metadata": {
        "id": "5-09JjTuAy3W",
        "colab": {
          "base_uri": "https://localhost:8080/"
        },
        "outputId": "1d395851-f727-4766-c5b9-a059fe1f8eca"
      },
      "execution_count": 12,
      "outputs": [
        {
          "name": "stdout",
          "output_type": "stream",
          "text": [
            "Begin typing here: What is the real time price of AAPL?\n"
          ]
        }
      ]
    },
    {
      "cell_type": "code",
      "source": [
        "user_input = {\n",
        "    \"role\": \"user\",\n",
        "    \"content\": message,\n",
        "}"
      ],
      "metadata": {
        "id": "xQweqiSYA-O7"
      },
      "execution_count": 13,
      "outputs": []
    },
    {
      "cell_type": "code",
      "source": [
        "for step in agent_executor.stream(\n",
        "    {\"messages\": [user_input]}, config, stream_mode=\"values\"\n",
        "):\n",
        "    step[\"messages\"][-1].pretty_print()"
      ],
      "metadata": {
        "id": "15JVQShzBH-a",
        "colab": {
          "base_uri": "https://localhost:8080/"
        },
        "outputId": "d68a93bb-17c2-4655-a756-b6fb08dd7d0a"
      },
      "execution_count": 14,
      "outputs": [
        {
          "output_type": "stream",
          "name": "stdout",
          "text": [
            "================================\u001b[1m Human Message \u001b[0m=================================\n",
            "\n",
            "What is the real time price of AAPL?\n",
            "==================================\u001b[1m Ai Message \u001b[0m==================================\n",
            "Tool Calls:\n",
            "  real_time_stock_price (5m7dae5ze)\n",
            " Call ID: 5m7dae5ze\n",
            "  Args:\n",
            "    ticker: AAPL\n"
          ]
        },
        {
          "output_type": "stream",
          "name": "stderr",
          "text": [
            "/tmp/ipython-input-6-104593268.py:6: FutureWarning: Series.__getitem__ treating keys as positions is deprecated. In a future version, integer keys will always be treated as labels (consistent with DataFrame behavior). To access a value by position, use `ser.iloc[pos]`\n",
            "  price = stock.history(period=\"1d\")['Close'][0] # Retrieves historical data for the last trading day & extracts the closing price of the stock\n"
          ]
        },
        {
          "output_type": "stream",
          "name": "stdout",
          "text": [
            "=================================\u001b[1m Tool Message \u001b[0m=================================\n",
            "Name: real_time_stock_price\n",
            "\n",
            "211.16000366210938\n",
            "==================================\u001b[1m Ai Message \u001b[0m==================================\n",
            "\n",
            "The real-time price of AAPL is 211.16000366210938.\n"
          ]
        }
      ]
    },
    {
      "cell_type": "code",
      "source": [
        "user_input = {\n",
        "    \"role\": \"user\",\n",
        "    \"content\": \"What happened today with Microsoft stocks?\",\n",
        "}\n",
        "\n",
        "for step in agent_executor.stream(\n",
        "    {\"messages\": [user_input]}, config, stream_mode=\"values\"\n",
        "):\n",
        "    step[\"messages\"][-1].pretty_print()"
      ],
      "metadata": {
        "colab": {
          "base_uri": "https://localhost:8080/"
        },
        "id": "ISWLMX1nCpMS",
        "outputId": "869dde01-39d7-4add-b274-21b0421defb4"
      },
      "execution_count": 15,
      "outputs": [
        {
          "output_type": "stream",
          "name": "stdout",
          "text": [
            "================================\u001b[1m Human Message \u001b[0m=================================\n",
            "\n",
            "What happened today with Microsoft stocks?\n",
            "==================================\u001b[1m Ai Message \u001b[0m==================================\n",
            "Tool Calls:\n",
            "  yahoo_finance_news (5eyjdryr7)\n",
            " Call ID: 5eyjdryr7\n",
            "  Args:\n",
            "    query: MSFT\n",
            "=================================\u001b[1m Tool Message \u001b[0m=================================\n",
            "Name: yahoo_finance_news\n",
            "\n",
            "Microsoft (MSFT): A Bull Case Theory\n",
            "We came across a bullish thesis on Microsoft on Max Dividends’s Substack. As of 2ⁿᵈ July, Microsoft’s share was trading at $491.09. MSFT’s trailing and forward P/E were 38.01 and 32.85 respectively according to Yahoo Finance. Microsoft (MSFT) is a dividend stock that stands out with a strong business model, reliable dividends, and massive growth […]\n",
            "==================================\u001b[1m Ai Message \u001b[0m==================================\n",
            "\n",
            "It appears that there is a bullish thesis on Microsoft stocks, with a strong business model, reliable dividends, and massive growth potential.\n"
          ]
        }
      ]
    }
  ]
}